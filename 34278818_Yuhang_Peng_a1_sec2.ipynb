{
 "cells": [
  {
   "cell_type": "markdown",
   "id": "6cf1a416-9a03-4611-a317-44b4a2b55512",
   "metadata": {},
   "source": [
    "Student Name: Yuhang Peng <br>\n",
    "Student ID:   34278818"
   ]
  },
  {
   "cell_type": "markdown",
   "id": "4551b76b",
   "metadata": {},
   "source": [
    "# 2 Ridge Regression"
   ]
  },
  {
   "cell_type": "code",
   "execution_count": 1,
   "id": "e6d328ed-338a-44de-bf2d-f1cc819ca21b",
   "metadata": {},
   "outputs": [],
   "source": [
    "import numpy as np\n",
    "from matplotlib import pyplot as plt\n",
    "from sklearn.pipeline import make_pipeline\n",
    "from sklearn.metrics import mean_squared_error"
   ]
  },
  {
   "cell_type": "markdown",
   "id": "bb812a98",
   "metadata": {},
   "source": [
    "## Question 4"
   ]
  },
  {
   "cell_type": "markdown",
   "id": "04fe0747",
   "metadata": {},
   "source": [
    "### I"
   ]
  },
  {
   "cell_type": "markdown",
   "id": "59e56506",
   "metadata": {},
   "source": [
    "The error function for ridge regression (linear regression with L2 regularization) is given by:\n",
    "$$\n",
    "E(\\mathbf{w}) = \\frac{1}{2} \\left\\|\\Phi \\mathbf{w} - \\mathbf{t} \\right\\|^2 + \\frac{\\lambda}{2} \\|\\mathbf{w}\\|^2\n",
    "$$"
   ]
  },
  {
   "cell_type": "markdown",
   "id": "8da82b76-4847-4a8a-9cc6-ecae8c410331",
   "metadata": {},
   "source": [
    "Here,\n",
    "- $\\Phi$ is the design matrix (each row is a data point, each column is a feature).\n",
    "- $\\mathbf{w}$ is the weight vector.\n",
    "- $\\mathbf{t}$ is the target vector.\n",
    "- $\\lambda$ is the regularization parameter."
   ]
  },
  {
   "cell_type": "markdown",
   "id": "d4fccda6-b68b-487e-ae0b-a1fda7b81959",
   "metadata": {},
   "source": [
    "To find the optimal $\\mathbf{w}$, we take the derivative of the cost function with respect to $\\mathbf{w}$ and set it to zero:\n",
    "$$\n",
    "\\frac{\\partial E(\\mathbf{w})}{\\partial \\mathbf{w}} = \\Phi^T (\\Phi \\mathbf{w} - \\mathbf{t}) + \\lambda \\mathbf{w} = 0\n",
    "$$"
   ]
  },
  {
   "cell_type": "markdown",
   "id": "c5ffe811-9ca9-42e4-8806-0845ea4fd2cb",
   "metadata": {},
   "source": [
    "Now, rearrange the equation to solve for $\\mathbf{w}$:\n",
    "$$\n",
    "\\Phi^T \\Phi \\mathbf{w} + \\lambda \\mathbf{w} = \\Phi^T \\mathbf{t}\n",
    "$$\n",
    "$$\n",
    "(\\Phi^T \\Phi + \\lambda \\mathbf{I}) \\mathbf{w} = \\Phi^T \\mathbf{t}\n",
    "$$\n",
    "Where $\\mathbf{I}$ is the identity matrix."
   ]
  },
  {
   "cell_type": "markdown",
   "id": "99f62cc9-9512-4131-ba6f-8bbdb17cf23f",
   "metadata": {},
   "source": [
    "The solution for $\\mathbf{w}$ is then given by:\n",
    "$$\n",
    "\\mathbf{w} = (\\Phi^T \\Phi + \\lambda \\mathbf{I})^{-1} \\Phi^T \\mathbf{t}\n",
    "$$\n",
    "This is the closed-form solution for ridge regression."
   ]
  },
  {
   "cell_type": "markdown",
   "id": "0062523e",
   "metadata": {},
   "source": [
    "### II"
   ]
  },
  {
   "cell_type": "code",
   "execution_count": 2,
   "id": "1e226a5a",
   "metadata": {
    "ExecuteTime": {
     "end_time": "2024-08-26T00:35:37.152072Z",
     "start_time": "2024-08-26T00:35:37.131142Z"
    }
   },
   "outputs": [],
   "source": [
    "class RidgeRegressionSGD:\n",
    "\n",
    "    def __init__(self, lambda_=0.1):\n",
    "        \"\"\"\n",
    "        Initialize the Ridge Regression model.\n",
    "\n",
    "        Parameters:\n",
    "        - lambda_: Regularization strength for Ridge Regression (L2 penalty).\n",
    "        \"\"\"\n",
    "        self.lambda_ = lambda_ # Regularization strength\n",
    "\n",
    "    def fit(self, x, y):\n",
    "        \"\"\"\n",
    "        Fit the Ridge Regression model to the training data using the closed-form solution.\n",
    "\n",
    "        Parameters:\n",
    "        - x: Feature matrix (n_samples, n_features).\n",
    "        - y: Target vector (n_samples,).\n",
    "\n",
    "        Returns:\n",
    "        - self: The fitted model instance.\n",
    "        \"\"\"\n",
    "        # Number of features\n",
    "        p = x.shape[1]\n",
    "\n",
    "        # Identity matrix of size p * p\n",
    "        I = np.eye(p)\n",
    "\n",
    "        # Compute the closed-form solution for Ridge Regression\n",
    "        self.coef_ = np.linalg.inv(x.T.dot(x) + self.lambda_ * I).dot(x.T).dot(y)\n",
    "\n",
    "        return self\n",
    "\n",
    "    def predict(self, x):\n",
    "        \"\"\"\n",
    "        Predict the target values using the fitted Ridge Regression model.\n",
    "\n",
    "        Parameters:\n",
    "        - x: Feature matrix (n_samples, n_features).\n",
    "\n",
    "        Returns:\n",
    "        - y_pred: Predicted values (n_samples,).\n",
    "        \"\"\"\n",
    "        y_pred = x.dot(self.coef_) # Compute predictions as dot product of features and coefficients\n",
    "        return y_pred"
   ]
  },
  {
   "cell_type": "markdown",
   "id": "8f9c7941",
   "metadata": {},
   "source": [
    "### III"
   ]
  },
  {
   "cell_type": "markdown",
   "id": "9a1eba81",
   "metadata": {},
   "source": [
    "#### (a)"
   ]
  },
  {
   "cell_type": "code",
   "execution_count": 3,
   "id": "6b50aacf",
   "metadata": {
    "ExecuteTime": {
     "end_time": "2024-08-26T00:35:39.068036Z",
     "start_time": "2024-08-26T00:35:39.051909Z"
    }
   },
   "outputs": [],
   "source": [
    "def f(x):\n",
    "    return np.cos(3 * np.pi * x)/(2 + 3 * x)\n",
    "\n",
    "# Synthetic data generator\n",
    "def make_additive_noise_data(n, f, a, b, noise=0.1, random_state=None):\n",
    "    RNG = np.random.default_rng(random_state) # Random number generator\n",
    "    x = RNG.uniform(a, b, size=(n, 1)) # Generate n points uniformly in the range [a,b]\n",
    "    y = f(x) + RNG.normal(0, noise, size=(n, 1)) # Add Gaussian noise to the target values\n",
    "    return x, y\n",
    "\n",
    "# Polynomial feature transformer\n",
    "class PolynomialFeatures:\n",
    "\n",
    "    def __init__(self, degree):\n",
    "        self.degree = degree # The degree of the polynomial features\n",
    "\n",
    "    def fit(self, x, y=None):\n",
    "        return self\n",
    "\n",
    "    def transform(self, x, y=None):\n",
    "        output = []\n",
    "        for i in range(0, self.degree + 1):\n",
    "            column = x ** i # Generate the i-th degree polynomial feature\n",
    "            output.append(column)\n",
    "        return np.column_stack(output) # Stack the columns to form the output matrix\n",
    "\n",
    "    def fit_transform(self, x, y=None):\n",
    "        self.fit(x, y) # Fit the transformer\n",
    "        return self.transform(x, y) # Transform the data into polynomial features"
   ]
  },
  {
   "cell_type": "markdown",
   "id": "33eea5db",
   "metadata": {},
   "source": [
    "#### (b)"
   ]
  },
  {
   "cell_type": "code",
   "execution_count": 4,
   "id": "4ff2b803",
   "metadata": {
    "ExecuteTime": {
     "end_time": "2024-08-17T10:00:40.331909Z",
     "start_time": "2024-08-17T08:37:11.399667Z"
    }
   },
   "outputs": [],
   "source": [
    "# Define the range of lambda values \n",
    "lambda_values = np.geomspace(10**-10, 0.1, 101, endpoint=True)\n",
    "n_repeats = 10 # Number of repeats for each lambda to reduce variability\n",
    "\n",
    "# List to store errors across all repeats and lambda values\n",
    "train_errors = []\n",
    "test_errors = []\n",
    "\n",
    "# Generate a fixed test dataset for evaluating the model\n",
    "x_test, y_test = make_additive_noise_data(1000, f, -0.3, 0.3, random_state=42)\n",
    "\n",
    "# Create pipelines for each lambda value\n",
    "pipelines = [\n",
    "    make_pipeline(\n",
    "        PolynomialFeatures(degree=5), # Transform the data into polynomial features of degree 5\n",
    "        RidgeRegressionSGD(lambda_=lambda_) # Ridge regression using SGD with specified lambda\n",
    "    ) for lambda_ in lambda_values\n",
    "]\n",
    "\n",
    "# Repeat the experiment n_repeat times\n",
    "for _ in range(n_repeats):\n",
    "    # Generate new training data for each repeat\n",
    "    x_train, y_train = make_additive_noise_data(20, f, -0.3, 0.3, noise=0.1, random_state=None)\n",
    "\n",
    "    train_error_lambda = [] # List to store training errors for all lambda values in the current repeat\n",
    "    test_error_lambda = [] # List to store test errors for all lambda values in the current repeat\n",
    "\n",
    "    # Fit and evaluate each pipeline corresponding to each lambda value\n",
    "    for j, lambda_ in enumerate(lambda_values):\n",
    "        pipelines[j].fit(x_train, y_train) # Fit the model on the training data\n",
    "        \n",
    "        # Calculate training and test errors\n",
    "        train_error = mean_squared_error(y_train, pipelines[j].predict(x_train))\n",
    "        test_error = mean_squared_error(y_test, pipelines[j].predict(x_test))\n",
    "\n",
    "        # Append errors for the current lambda\n",
    "        train_error_lambda.append(train_error) \n",
    "        test_error_lambda.append(test_error) \n",
    "        \n",
    "    # Store the errors for all lambdas in this repeat\n",
    "    train_errors.append(train_error_lambda)\n",
    "    test_errors.append(test_error_lambda)"
   ]
  },
  {
   "cell_type": "markdown",
   "id": "fc9b3b2d",
   "metadata": {},
   "source": [
    "#### (c)"
   ]
  },
  {
   "cell_type": "code",
   "execution_count": 7,
   "id": "5fec128b",
   "metadata": {
    "ExecuteTime": {
     "end_time": "2024-08-17T10:13:58.842733Z",
     "start_time": "2024-08-17T10:13:58.411236Z"
    }
   },
   "outputs": [
    {
     "data": {
      "image/png": "[encoded data removed]",
      "text/plain": [
       "<Figure size 1000x600 with 1 Axes>"
      ]
     },
     "metadata": {},
     "output_type": "display_data"
    }
   ],
   "source": [
    "# Compute the mean of errors across all repeats for each lambda value\n",
    "mean_train_errors = np.mean(train_errors, axis=0)\n",
    "std_train_errors = np.std(train_errors, axis=0)\n",
    "mean_test_errors = np.mean(test_errors, axis=0)\n",
    "std_test_errors = np.std(test_errors, axis=0)\n",
    "\n",
    "# Plotting the results\n",
    "plt.figure(figsize=(10, 6))\n",
    "\n",
    "# Plot the mean train and test errors\n",
    "plt.plot(lambda_values, mean_train_errors, label='Train Error')\n",
    "plt.plot(lambda_values, mean_test_errors, label='Test Error')\n",
    "\n",
    "# Set log scale for x-axis and y-axis since lambda values are log-scaled\n",
    "plt.xscale('log')\n",
    "plt.yscale('log')\n",
    "\n",
    "# Add labels and title\n",
    "plt.xlabel(r'$\\lambda$')\n",
    "plt.ylabel('Mean Squared Error (MSE)')\n",
    "plt.title('Train and Test Errors')\n",
    "plt.legend()\n",
    "plt.show()"
   ]
  },
  {
   "cell_type": "markdown",
   "id": "50dd99e0-a3b1-43ab-ae80-f902297c6eeb",
   "metadata": {},
   "source": [
    "- For small values of $\\lambda$, the model has high complexity, and we start to see signs of overfitting as the training error is significantly lower than the test error.\n",
    "- For large values of $\\lambda$, the model becomes too simple, resulting in underfitting, as evidenced by the high error rates on both training and test sets."
   ]
  }
 ],
 "metadata": {
  "kernelspec": {
   "display_name": "Python 3 (ipykernel)",
   "language": "python",
   "name": "python3"
  },
  "language_info": {
   "codemirror_mode": {
    "name": "ipython",
    "version": 3
   },
   "file_extension": ".py",
   "mimetype": "text/x-python",
   "name": "python",
   "nbconvert_exporter": "python",
   "pygments_lexer": "ipython3",
   "version": "3.12.4"
  },
  "toc": {
   "base_numbering": 1,
   "nav_menu": {},
   "number_sections": true,
   "sideBar": true,
   "skip_h1_title": false,
   "title_cell": "Table of Contents",
   "title_sidebar": "Contents",
   "toc_cell": false,
   "toc_position": {},
   "toc_section_display": true,
   "toc_window_display": false
  }
 },
 "nbformat": 4,
 "nbformat_minor": 5
}
